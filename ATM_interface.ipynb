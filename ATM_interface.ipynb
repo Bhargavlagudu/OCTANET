{
 "cells": [
  {
   "cell_type": "markdown",
   "id": "13e4a631-a2e0-4e96-85e6-847793d8f96e",
   "metadata": {},
   "source": []
  },
  {
   "cell_type": "code",
   "execution_count": null,
   "id": "3f224e4c-c1ec-4e92-930f-6611c8f14999",
   "metadata": {},
   "outputs": [
    {
     "name": "stdout",
     "output_type": "stream",
     "text": [
      "Insert The CARD\n"
     ]
    },
    {
     "name": "stdin",
     "output_type": "stream",
     "text": [
      "enter atm pin 2007\n",
      "Enter acc sbi\n"
     ]
    },
    {
     "name": "stdout",
     "output_type": "stream",
     "text": [
      "ATM INTERFACE\n",
      "---------------------------\n",
      "1. Balance\n",
      "2. Transactions history\n",
      "3. Withdraw\n",
      "4. Deposit\n",
      "5. Transfer\n",
      "6. Quit\n"
     ]
    },
    {
     "name": "stdin",
     "output_type": "stream",
     "text": [
      "Enter your choice:  1\n"
     ]
    },
    {
     "name": "stdout",
     "output_type": "stream",
     "text": [
      "your current bal is 10000 \n",
      "ATM INTERFACE\n",
      "---------------------------\n",
      "1. Balance\n",
      "2. Transactions history\n",
      "3. Withdraw\n",
      "4. Deposit\n",
      "5. Transfer\n",
      "6. Quit\n"
     ]
    },
    {
     "name": "stdin",
     "output_type": "stream",
     "text": [
      "Enter your choice:  3\n",
      "enter withdraw_amt 3000\n"
     ]
    },
    {
     "name": "stdout",
     "output_type": "stream",
     "text": [
      "3000 is debited from your acc\n",
      "your current bal is 7000 \n",
      "ATM INTERFACE\n",
      "---------------------------\n",
      "1. Balance\n",
      "2. Transactions history\n",
      "3. Withdraw\n",
      "4. Deposit\n",
      "5. Transfer\n",
      "6. Quit\n"
     ]
    },
    {
     "name": "stdin",
     "output_type": "stream",
     "text": [
      "Enter your choice:  4\n",
      "enter dep_amt 5000\n"
     ]
    },
    {
     "name": "stdout",
     "output_type": "stream",
     "text": [
      "5000 is credited to your acc\n",
      "your updated bal is 12000 \n",
      "ATM INTERFACE\n",
      "---------------------------\n",
      "1. Balance\n",
      "2. Transactions history\n",
      "3. Withdraw\n",
      "4. Deposit\n",
      "5. Transfer\n",
      "6. Quit\n"
     ]
    },
    {
     "name": "stdin",
     "output_type": "stream",
     "text": [
      "Enter your choice:  5\n",
      "Enter transfer to which acc union\n",
      "enter transfer_amt 5000\n"
     ]
    },
    {
     "name": "stdout",
     "output_type": "stream",
     "text": [
      "Successfully transferred 5000 from account SBI to UNION\n",
      "ATM INTERFACE\n",
      "---------------------------\n",
      "1. Balance\n",
      "2. Transactions history\n",
      "3. Withdraw\n",
      "4. Deposit\n",
      "5. Transfer\n",
      "6. Quit\n"
     ]
    }
   ],
   "source": [
    "import csv\n",
    "import pandas as pd\n",
    "import time \n",
    "import datetime \n",
    "database = 'transactions.csv'\n",
    "accounts_database = 'accounts.csv'\n",
    "try:\n",
    "    df = pd.read_csv(database)\n",
    "except pd.errors.EmptyDataError:\n",
    "    df = pd.DataFrame(columns=['Date','Transaction'])\n",
    "df.to_csv(database,index=False)\n",
    "print(\"Insert The CARD\")\n",
    "time.sleep(3)\n",
    "pwd=2007\n",
    "pin=int(input(\"enter atm pin\"))\n",
    "try:\n",
    "    accounts_df = pd.read_csv(accounts_database)\n",
    "except pd.errors.EmptyDataError:\n",
    "    accounts_df = pd.DataFrame(columns=['AccountID', 'Balance'])\n",
    "account_id = input(\"Enter acc\").upper()\n",
    "l=accounts_df['AccountID'].tolist()\n",
    "if account_id not in l:\n",
    "    print(\"No account with that Id\")\n",
    "idx = accounts_df[accounts_df['AccountID'] == (account_id)].index[0]\n",
    "idx=l.index(account_id)\n",
    "bal = accounts_df.loc[idx, 'Balance']\n",
    "def display_menu():\n",
    "    print(\"ATM INTERFACE\")\n",
    "    print(\"---------------------------\")\n",
    "    print(\"1. Balance\")\n",
    "    \n",
    "    print(\"2. Transactions history\")\n",
    "    print(\"3. Withdraw\")\n",
    "    print(\"4. Deposit\")\n",
    "    print(\"5. Transfer\")\n",
    "    print(\"6. Quit\")\n",
    "def balance():\n",
    "    print(f\"your current bal is {bal} \")\n",
    "def history():\n",
    "    global df\n",
    "    df = pd.read_csv(database)\n",
    "    print(df)\n",
    "def withdraw():\n",
    "    global bal\n",
    "    global df\n",
    "    global accounts_df\n",
    "\n",
    "    withdraw_amt=int(input(\"enter withdraw_amt\"))\n",
    "    if withdraw_amt<=bal:\n",
    "        bal-=(withdraw_amt)\n",
    "        print(f\"{withdraw_amt} is debited from your acc\")\n",
    "        print(f\"your current bal is {bal} \")\n",
    "        # new_transaction = pd.DataFrame({\n",
    "        #     \"Date\": [datetime.date.today()],\n",
    "        #     \"Transaction\": [f\"{withdraw_amt} debited\"]\n",
    "        # })\n",
    "        # df = pd.concat([df, new_transaction], ignore_index=True)\n",
    "        df=pd.DataFrame({\"Date\":[datetime.date.today()],\"Transaction\":[f\"{withdraw_amt} is debited\"]})\n",
    "        accounts_df.loc[idx,['Balance']] = bal\n",
    "        df.to_csv(database,mode='a',index=False,header=False)\n",
    "        accounts_df.to_csv(accounts_database,index=False)\n",
    "    else:\n",
    "        print(\"You have not enough money\")\n",
    "def deposit():\n",
    "    global bal\n",
    "    global df\n",
    "    global accounts_df\n",
    "    dep_amt=int(input(\"enter dep_amt\"))\n",
    "    bal+=(dep_amt)\n",
    "    print(f\"{dep_amt} is credited to your acc\")\n",
    "    print(f\"your updated bal is {bal} \")\n",
    "    # new_transaction = pd.DataFrame({\n",
    "    #         \"Date\": [datetime.date.today()],\n",
    "    #         \"Transaction\": [f\"{dep_amt} credited\"]\n",
    "    #     })\n",
    "    # df = pd.concat([df, new_transaction], ignore_index=True)\n",
    "    df=pd.DataFrame({\"Date\":[datetime.date.today()],\"Transaction\":[f\"{dep_amt} is credited\"]})\n",
    "    accounts_df.loc[idx,['Balance']] = bal\n",
    "    df.to_csv(database,mode='a',index=False,header=False)\n",
    "    accounts_df.to_csv(accounts_database,index=False)\n",
    "\n",
    "def transfer():\n",
    "    global bal\n",
    "    global df\n",
    "    global accounts_df\n",
    "    df=pd.read_csv(database)\n",
    "    target_id = input(\"Enter transfer to which acc\").upper()\n",
    "    if target_id not in l:\n",
    "        print(\"No account with that Id\")\n",
    "    else:\n",
    "        transfer_amt=int(input(\"enter transfer_amt\"))\n",
    "        bal-=(transfer_amt)\n",
    "        accounts_df.loc[idx,['Balance']] = bal\n",
    "        accounts_df.to_csv(accounts_database,index=False)\n",
    "        idx1=l.index(target_id)\n",
    "        bal1 = accounts_df.loc[idx1, 'Balance']\n",
    "        bal1+=(transfer_amt)\n",
    "        accounts_df.loc[idx1,['Balance']] = bal1\n",
    "        accounts_df.to_csv(accounts_database,index=False)\n",
    "        print(f\"Successfully transferred {transfer_amt} from account {account_id} to {target_id }\")\n",
    "        df=pd.DataFrame({\"Date\":[datetime.date.today()],\"Transaction\":[f\"{transfer_amt} is transfered from {account_id} to {target_id }\"]})\n",
    "        df.to_csv(database,mode='a',index=False,header=False)\n",
    "if pin==pwd:\n",
    "    while True:\n",
    "        display_menu()\n",
    "        try:\n",
    "            ch = int(input(\"Enter your choice: \"))\n",
    "        except:\n",
    "            print(\"Enter correctly!\")\n",
    "        if ch == 1:\n",
    "            balance()\n",
    "        elif ch==2:\n",
    "            history()\n",
    "        elif ch==3:\n",
    "            withdraw()\n",
    "        elif ch == 4:\n",
    "            deposit()\n",
    "        elif ch== 5:\n",
    "            transfer()\n",
    "        elif ch==6:\n",
    "            break\n",
    "        else:\n",
    "            print(\"Invalid choice\")\n",
    "else:\n",
    "    print(\"Incorrect PIN. Access denied.\")\n"
   ]
  },
  {
   "cell_type": "code",
   "execution_count": null,
   "id": "19dd6d92-b29d-4374-9d75-565ad4ebabfd",
   "metadata": {},
   "outputs": [],
   "source": []
  },
  {
   "cell_type": "code",
   "execution_count": null,
   "id": "e2caa5ea-80a8-4bcb-8199-fae2a0aff8df",
   "metadata": {},
   "outputs": [],
   "source": []
  }
 ],
 "metadata": {
  "kernelspec": {
   "display_name": "Python 3 (ipykernel)",
   "language": "python",
   "name": "python3"
  },
  "language_info": {
   "codemirror_mode": {
    "name": "ipython",
    "version": 3
   },
   "file_extension": ".py",
   "mimetype": "text/x-python",
   "name": "python",
   "nbconvert_exporter": "python",
   "pygments_lexer": "ipython3",
   "version": "3.11.7"
  }
 },
 "nbformat": 4,
 "nbformat_minor": 5
}
